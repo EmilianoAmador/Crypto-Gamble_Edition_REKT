{
 "cells": [
  {
   "cell_type": "code",
   "execution_count": 1,
   "metadata": {},
   "outputs": [],
   "source": [
    "import numpy as np\n",
    "import pandas as pd\n",
    "%matplotlib inline\n",
    "from nba_api.stats.static import teams\n",
    "from nba_api.stats.endpoints import leaguegamefinder"
   ]
  },
  {
   "cell_type": "code",
   "execution_count": 2,
   "metadata": {},
   "outputs": [],
   "source": [
    "nba_teams = teams.get_teams()\n",
    "lakers = [team for team in nba_teams if team['abbreviation'] == 'LAL'][0]\n",
    "lakers_id = lakers['id']"
   ]
  },
  {
   "cell_type": "code",
   "execution_count": 3,
   "metadata": {},
   "outputs": [],
   "source": [
    "gamefinder = leaguegamefinder.LeagueGameFinder(team_id_nullable=lakers_id)"
   ]
  },
  {
   "cell_type": "code",
   "execution_count": 4,
   "metadata": {},
   "outputs": [
    {
     "data": {
      "text/html": [
       "<div>\n",
       "<style scoped>\n",
       "    .dataframe tbody tr th:only-of-type {\n",
       "        vertical-align: middle;\n",
       "    }\n",
       "\n",
       "    .dataframe tbody tr th {\n",
       "        vertical-align: top;\n",
       "    }\n",
       "\n",
       "    .dataframe thead th {\n",
       "        text-align: right;\n",
       "    }\n",
       "</style>\n",
       "<table border=\"1\" class=\"dataframe\">\n",
       "  <thead>\n",
       "    <tr style=\"text-align: right;\">\n",
       "      <th></th>\n",
       "      <th>SEASON_ID</th>\n",
       "      <th>TEAM_ID</th>\n",
       "      <th>TEAM_ABBREVIATION</th>\n",
       "      <th>TEAM_NAME</th>\n",
       "      <th>GAME_ID</th>\n",
       "      <th>GAME_DATE</th>\n",
       "      <th>MATCHUP</th>\n",
       "      <th>WL</th>\n",
       "      <th>MIN</th>\n",
       "      <th>PTS</th>\n",
       "      <th>...</th>\n",
       "      <th>FT_PCT</th>\n",
       "      <th>OREB</th>\n",
       "      <th>DREB</th>\n",
       "      <th>REB</th>\n",
       "      <th>AST</th>\n",
       "      <th>STL</th>\n",
       "      <th>BLK</th>\n",
       "      <th>TOV</th>\n",
       "      <th>PF</th>\n",
       "      <th>PLUS_MINUS</th>\n",
       "    </tr>\n",
       "  </thead>\n",
       "  <tbody>\n",
       "    <tr>\n",
       "      <th>0</th>\n",
       "      <td>42019</td>\n",
       "      <td>1610612747</td>\n",
       "      <td>LAL</td>\n",
       "      <td>Los Angeles Lakers</td>\n",
       "      <td>0041900144</td>\n",
       "      <td>2020-08-24</td>\n",
       "      <td>LAL @ POR</td>\n",
       "      <td>W</td>\n",
       "      <td>240</td>\n",
       "      <td>135</td>\n",
       "      <td>...</td>\n",
       "      <td>0.667</td>\n",
       "      <td>12</td>\n",
       "      <td>29</td>\n",
       "      <td>41</td>\n",
       "      <td>29</td>\n",
       "      <td>7</td>\n",
       "      <td>9</td>\n",
       "      <td>14</td>\n",
       "      <td>28</td>\n",
       "      <td>20.0</td>\n",
       "    </tr>\n",
       "    <tr>\n",
       "      <th>1</th>\n",
       "      <td>42019</td>\n",
       "      <td>1610612747</td>\n",
       "      <td>LAL</td>\n",
       "      <td>Los Angeles Lakers</td>\n",
       "      <td>0041900143</td>\n",
       "      <td>2020-08-22</td>\n",
       "      <td>LAL @ POR</td>\n",
       "      <td>W</td>\n",
       "      <td>240</td>\n",
       "      <td>116</td>\n",
       "      <td>...</td>\n",
       "      <td>0.651</td>\n",
       "      <td>12</td>\n",
       "      <td>43</td>\n",
       "      <td>55</td>\n",
       "      <td>26</td>\n",
       "      <td>6</td>\n",
       "      <td>8</td>\n",
       "      <td>17</td>\n",
       "      <td>21</td>\n",
       "      <td>8.0</td>\n",
       "    </tr>\n",
       "    <tr>\n",
       "      <th>2</th>\n",
       "      <td>42019</td>\n",
       "      <td>1610612747</td>\n",
       "      <td>LAL</td>\n",
       "      <td>Los Angeles Lakers</td>\n",
       "      <td>0041900142</td>\n",
       "      <td>2020-08-20</td>\n",
       "      <td>LAL vs. POR</td>\n",
       "      <td>W</td>\n",
       "      <td>242</td>\n",
       "      <td>111</td>\n",
       "      <td>...</td>\n",
       "      <td>0.900</td>\n",
       "      <td>14</td>\n",
       "      <td>36</td>\n",
       "      <td>50</td>\n",
       "      <td>26</td>\n",
       "      <td>9</td>\n",
       "      <td>3</td>\n",
       "      <td>14</td>\n",
       "      <td>22</td>\n",
       "      <td>23.0</td>\n",
       "    </tr>\n",
       "    <tr>\n",
       "      <th>3</th>\n",
       "      <td>42019</td>\n",
       "      <td>1610612747</td>\n",
       "      <td>LAL</td>\n",
       "      <td>Los Angeles Lakers</td>\n",
       "      <td>0041900141</td>\n",
       "      <td>2020-08-18</td>\n",
       "      <td>LAL vs. POR</td>\n",
       "      <td>L</td>\n",
       "      <td>240</td>\n",
       "      <td>93</td>\n",
       "      <td>...</td>\n",
       "      <td>0.645</td>\n",
       "      <td>17</td>\n",
       "      <td>38</td>\n",
       "      <td>55</td>\n",
       "      <td>22</td>\n",
       "      <td>11</td>\n",
       "      <td>4</td>\n",
       "      <td>9</td>\n",
       "      <td>23</td>\n",
       "      <td>-7.0</td>\n",
       "    </tr>\n",
       "    <tr>\n",
       "      <th>4</th>\n",
       "      <td>22019</td>\n",
       "      <td>1610612747</td>\n",
       "      <td>LAL</td>\n",
       "      <td>Los Angeles Lakers</td>\n",
       "      <td>0021901310</td>\n",
       "      <td>2020-08-13</td>\n",
       "      <td>LAL vs. SAC</td>\n",
       "      <td>L</td>\n",
       "      <td>241</td>\n",
       "      <td>122</td>\n",
       "      <td>...</td>\n",
       "      <td>0.733</td>\n",
       "      <td>15</td>\n",
       "      <td>32</td>\n",
       "      <td>47</td>\n",
       "      <td>29</td>\n",
       "      <td>6</td>\n",
       "      <td>1</td>\n",
       "      <td>17</td>\n",
       "      <td>18</td>\n",
       "      <td>-14.0</td>\n",
       "    </tr>\n",
       "  </tbody>\n",
       "</table>\n",
       "<p>5 rows × 28 columns</p>\n",
       "</div>"
      ],
      "text/plain": [
       "  SEASON_ID     TEAM_ID TEAM_ABBREVIATION           TEAM_NAME     GAME_ID  \\\n",
       "0     42019  1610612747               LAL  Los Angeles Lakers  0041900144   \n",
       "1     42019  1610612747               LAL  Los Angeles Lakers  0041900143   \n",
       "2     42019  1610612747               LAL  Los Angeles Lakers  0041900142   \n",
       "3     42019  1610612747               LAL  Los Angeles Lakers  0041900141   \n",
       "4     22019  1610612747               LAL  Los Angeles Lakers  0021901310   \n",
       "\n",
       "    GAME_DATE      MATCHUP WL  MIN  PTS  ...  FT_PCT  OREB  DREB  REB  AST  \\\n",
       "0  2020-08-24    LAL @ POR  W  240  135  ...   0.667    12    29   41   29   \n",
       "1  2020-08-22    LAL @ POR  W  240  116  ...   0.651    12    43   55   26   \n",
       "2  2020-08-20  LAL vs. POR  W  242  111  ...   0.900    14    36   50   26   \n",
       "3  2020-08-18  LAL vs. POR  L  240   93  ...   0.645    17    38   55   22   \n",
       "4  2020-08-13  LAL vs. SAC  L  241  122  ...   0.733    15    32   47   29   \n",
       "\n",
       "   STL  BLK  TOV  PF  PLUS_MINUS  \n",
       "0    7    9   14  28        20.0  \n",
       "1    6    8   17  21         8.0  \n",
       "2    9    3   14  22        23.0  \n",
       "3   11    4    9  23        -7.0  \n",
       "4    6    1   17  18       -14.0  \n",
       "\n",
       "[5 rows x 28 columns]"
      ]
     },
     "execution_count": 4,
     "metadata": {},
     "output_type": "execute_result"
    }
   ],
   "source": [
    "games = gamefinder.get_data_frames()[0]\n",
    "games.head()"
   ]
  },
  {
   "cell_type": "code",
   "execution_count": 5,
   "metadata": {},
   "outputs": [
    {
     "data": {
      "text/plain": [
       "SEASON_ID                         42019\n",
       "TEAM_ID                      1610612747\n",
       "TEAM_ABBREVIATION                   LAL\n",
       "TEAM_NAME            Los Angeles Lakers\n",
       "GAME_ID                      0041900144\n",
       "GAME_DATE                    2020-08-24\n",
       "MATCHUP                       LAL @ POR\n",
       "WL                                    W\n",
       "MIN                                 240\n",
       "PTS                                 135\n",
       "FGM                                  49\n",
       "FGA                                  87\n",
       "FG_PCT                            0.563\n",
       "FG3M                                 17\n",
       "FG3A                                 39\n",
       "FG3_PCT                           0.436\n",
       "FTM                                  20\n",
       "FTA                                  30\n",
       "FT_PCT                            0.667\n",
       "OREB                                 12\n",
       "DREB                                 29\n",
       "REB                                  41\n",
       "AST                                  29\n",
       "STL                                   7\n",
       "BLK                                   9\n",
       "TOV                                  14\n",
       "PF                                   28\n",
       "PLUS_MINUS                           20\n",
       "Name: 0, dtype: object"
      ]
     },
     "execution_count": 5,
     "metadata": {},
     "output_type": "execute_result"
    }
   ],
   "source": [
    "\n",
    "last_lal_game = games.sort_values('GAME_DATE').iloc[-1]\n",
    "last_lal_game"
   ]
  },
  {
   "cell_type": "code",
   "execution_count": 6,
   "metadata": {},
   "outputs": [
    {
     "data": {
      "text/plain": [
       "'W'"
      ]
     },
     "execution_count": 6,
     "metadata": {},
     "output_type": "execute_result"
    }
   ],
   "source": [
    "last_lal_game['WL']"
   ]
  },
  {
   "cell_type": "code",
   "execution_count": 7,
   "metadata": {},
   "outputs": [
    {
     "data": {
      "text/plain": [
       "135"
      ]
     },
     "execution_count": 7,
     "metadata": {},
     "output_type": "execute_result"
    }
   ],
   "source": [
    "last_lal_game['PTS']"
   ]
  },
  {
   "cell_type": "code",
   "execution_count": null,
   "metadata": {},
   "outputs": [],
   "source": []
  }
 ],
 "metadata": {
  "kernelspec": {
   "display_name": "Python 3",
   "language": "python",
   "name": "python3"
  },
  "language_info": {
   "codemirror_mode": {
    "name": "ipython",
    "version": 3
   },
   "file_extension": ".py",
   "mimetype": "text/x-python",
   "name": "python",
   "nbconvert_exporter": "python",
   "pygments_lexer": "ipython3",
   "version": "3.7.7"
  }
 },
 "nbformat": 4,
 "nbformat_minor": 4
}
